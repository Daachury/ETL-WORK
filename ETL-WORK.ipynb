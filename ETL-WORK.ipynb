{
 "cells": [
  {
   "cell_type": "code",
   "execution_count": 2,
   "id": "7bd135b9",
   "metadata": {},
   "outputs": [],
   "source": [
    "import psycopg2\n",
    "import pandas as pd\n",
    "\n",
    "from google.cloud import bigquery\n",
    "from google.oauth2 import service_account"
   ]
  },
  {
   "cell_type": "code",
   "execution_count": 40,
   "id": "b775787c",
   "metadata": {},
   "outputs": [],
   "source": [
    "conn = psycopg2.connect( host = 'localhost', port = 5432, database = 'Adventureworks', user = 'postgres', password='postgres')"
   ]
  },
  {
   "cell_type": "code",
   "execution_count": 41,
   "id": "f5c8b07b",
   "metadata": {},
   "outputs": [],
   "source": [
    "cur = conn.cursor()\n",
    "table = pd.read_sql_query( 'SELECT \tsalesorderdetail.salesorderid, salesorderdetail.modifieddate, revisionnumber , salesorderdetail.specialofferid from sales.salesorderdetail, sales.salesorderheader, sales.specialofferproduct limit 100;', conn )\n",
    "cur.close()"
   ]
  },
  {
   "cell_type": "code",
   "execution_count": 42,
   "id": "84eedc30",
   "metadata": {},
   "outputs": [],
   "source": [
    "conn.close()"
   ]
  },
  {
   "cell_type": "code",
   "execution_count": 43,
   "id": "cfde516c",
   "metadata": {},
   "outputs": [
    {
     "data": {
      "text/plain": [
       "(100, 4)"
      ]
     },
     "execution_count": 43,
     "metadata": {},
     "output_type": "execute_result"
    }
   ],
   "source": [
    "table.shape"
   ]
  },
  {
   "cell_type": "code",
   "execution_count": 44,
   "id": "bc82406c",
   "metadata": {
    "scrolled": true
   },
   "outputs": [
    {
     "data": {
      "text/plain": [
       "salesorderid               int64\n",
       "modifieddate      datetime64[ns]\n",
       "revisionnumber             int64\n",
       "specialofferid             int64\n",
       "dtype: object"
      ]
     },
     "execution_count": 44,
     "metadata": {},
     "output_type": "execute_result"
    }
   ],
   "source": [
    "table.dtypes"
   ]
  },
  {
   "cell_type": "code",
   "execution_count": 45,
   "id": "38c0c4d8",
   "metadata": {},
   "outputs": [
    {
     "data": {
      "text/html": [
       "<div>\n",
       "<style scoped>\n",
       "    .dataframe tbody tr th:only-of-type {\n",
       "        vertical-align: middle;\n",
       "    }\n",
       "\n",
       "    .dataframe tbody tr th {\n",
       "        vertical-align: top;\n",
       "    }\n",
       "\n",
       "    .dataframe thead th {\n",
       "        text-align: right;\n",
       "    }\n",
       "</style>\n",
       "<table border=\"1\" class=\"dataframe\">\n",
       "  <thead>\n",
       "    <tr style=\"text-align: right;\">\n",
       "      <th></th>\n",
       "      <th>salesorderid</th>\n",
       "      <th>modifieddate</th>\n",
       "      <th>revisionnumber</th>\n",
       "      <th>specialofferid</th>\n",
       "    </tr>\n",
       "  </thead>\n",
       "  <tbody>\n",
       "    <tr>\n",
       "      <th>0</th>\n",
       "      <td>43659</td>\n",
       "      <td>2011-05-31</td>\n",
       "      <td>8</td>\n",
       "      <td>1</td>\n",
       "    </tr>\n",
       "    <tr>\n",
       "      <th>1</th>\n",
       "      <td>43659</td>\n",
       "      <td>2011-05-31</td>\n",
       "      <td>8</td>\n",
       "      <td>1</td>\n",
       "    </tr>\n",
       "    <tr>\n",
       "      <th>2</th>\n",
       "      <td>43659</td>\n",
       "      <td>2011-05-31</td>\n",
       "      <td>8</td>\n",
       "      <td>1</td>\n",
       "    </tr>\n",
       "    <tr>\n",
       "      <th>3</th>\n",
       "      <td>43659</td>\n",
       "      <td>2011-05-31</td>\n",
       "      <td>8</td>\n",
       "      <td>1</td>\n",
       "    </tr>\n",
       "    <tr>\n",
       "      <th>4</th>\n",
       "      <td>43659</td>\n",
       "      <td>2011-05-31</td>\n",
       "      <td>8</td>\n",
       "      <td>1</td>\n",
       "    </tr>\n",
       "  </tbody>\n",
       "</table>\n",
       "</div>"
      ],
      "text/plain": [
       "   salesorderid modifieddate  revisionnumber  specialofferid\n",
       "0         43659   2011-05-31               8               1\n",
       "1         43659   2011-05-31               8               1\n",
       "2         43659   2011-05-31               8               1\n",
       "3         43659   2011-05-31               8               1\n",
       "4         43659   2011-05-31               8               1"
      ]
     },
     "execution_count": 45,
     "metadata": {},
     "output_type": "execute_result"
    }
   ],
   "source": [
    "table.head()"
   ]
  },
  {
   "cell_type": "code",
   "execution_count": 47,
   "id": "726c495b",
   "metadata": {
    "scrolled": true
   },
   "outputs": [],
   "source": [
    "grouping = table.groupby( table[ 'modifieddate' ].dt.date ).agg( { 'salesorderid': 'count' } ).reset_index().rename( columns = { 'salesorderid': 'count' } )"
   ]
  },
  {
   "cell_type": "code",
   "execution_count": 48,
   "id": "0f7acc06",
   "metadata": {},
   "outputs": [
    {
     "data": {
      "text/html": [
       "<div>\n",
       "<style scoped>\n",
       "    .dataframe tbody tr th:only-of-type {\n",
       "        vertical-align: middle;\n",
       "    }\n",
       "\n",
       "    .dataframe tbody tr th {\n",
       "        vertical-align: top;\n",
       "    }\n",
       "\n",
       "    .dataframe thead th {\n",
       "        text-align: right;\n",
       "    }\n",
       "</style>\n",
       "<table border=\"1\" class=\"dataframe\">\n",
       "  <thead>\n",
       "    <tr style=\"text-align: right;\">\n",
       "      <th></th>\n",
       "      <th>modifieddate</th>\n",
       "      <th>count</th>\n",
       "    </tr>\n",
       "  </thead>\n",
       "  <tbody>\n",
       "    <tr>\n",
       "      <th>0</th>\n",
       "      <td>2011-05-31</td>\n",
       "      <td>100</td>\n",
       "    </tr>\n",
       "  </tbody>\n",
       "</table>\n",
       "</div>"
      ],
      "text/plain": [
       "  modifieddate  count\n",
       "0   2011-05-31    100"
      ]
     },
     "execution_count": 48,
     "metadata": {},
     "output_type": "execute_result"
    }
   ],
   "source": [
    "grouping"
   ]
  },
  {
   "cell_type": "code",
   "execution_count": 49,
   "id": "13a2b731",
   "metadata": {},
   "outputs": [],
   "source": [
    "credentials = service_account.Credentials.from_service_account_file( \n",
    "    '/Users/dachuryp/Downloads/prefab-sky-316717-348de5cd6bd3.json', \n",
    "    scopes = [ 'https://www.googleapis.com/auth/cloud-platform' ]\n",
    ")"
   ]
  },
  {
   "cell_type": "code",
   "execution_count": 50,
   "id": "6285d9f4",
   "metadata": {},
   "outputs": [],
   "source": [
    "client = bigquery.Client( credentials = credentials, project = credentials.project_id )"
   ]
  },
  {
   "cell_type": "code",
   "execution_count": 51,
   "id": "e8da816f",
   "metadata": {},
   "outputs": [],
   "source": [
    "job_config = bigquery.LoadJobConfig(\n",
    "    schema = [\n",
    "        # Supported datatypes: https://cloud.google.com/bigquery/docs/reference/standard-sql/data-types\n",
    "        bigquery.SchemaField( 'modifieddate', bigquery.enums.SqlTypeNames.DATE ),\n",
    "        bigquery.SchemaField( 'count', bigquery.enums.SqlTypeNames.INT64 ),\n",
    "    ],\n",
    "    # Drod and re-create table, if exist\n",
    "    write_disposition = 'WRITE_TRUNCATE',\n",
    ")"
   ]
  },
  {
   "cell_type": "code",
   "execution_count": 52,
   "id": "c5513f00",
   "metadata": {
    "scrolled": true
   },
   "outputs": [
    {
     "data": {
      "text/plain": [
       "<google.cloud.bigquery.job.load.LoadJob at 0x236fbbdafd0>"
      ]
     },
     "execution_count": 52,
     "metadata": {},
     "output_type": "execute_result"
    }
   ],
   "source": [
    "job = client.load_table_from_dataframe(\n",
    "    grouping, 'databases2.grouping', job_config = job_config\n",
    ")\n",
    "job.result()"
   ]
  },
  {
   "cell_type": "code",
   "execution_count": 53,
   "id": "851ce1cd",
   "metadata": {},
   "outputs": [
    {
     "name": "stdout",
     "output_type": "stream",
     "text": [
      "Loaded 1 rows and 2 columns to databases2.grouping\n"
     ]
    }
   ],
   "source": [
    "table = client.get_table( 'databases2.grouping' )\n",
    "print(\n",
    "    'Loaded {} rows and {} columns to {}'.format(\n",
    "        table.num_rows, len( table.schema ), 'databases2.grouping'\n",
    "    )\n",
    ")"
   ]
  },
  {
   "cell_type": "code",
   "execution_count": null,
   "id": "3be32a05",
   "metadata": {},
   "outputs": [],
   "source": []
  }
 ],
 "metadata": {
  "kernelspec": {
   "display_name": "Python 3",
   "language": "python",
   "name": "python3"
  },
  "language_info": {
   "codemirror_mode": {
    "name": "ipython",
    "version": 3
   },
   "file_extension": ".py",
   "mimetype": "text/x-python",
   "name": "python",
   "nbconvert_exporter": "python",
   "pygments_lexer": "ipython3",
   "version": "3.8.8"
  }
 },
 "nbformat": 4,
 "nbformat_minor": 5
}
